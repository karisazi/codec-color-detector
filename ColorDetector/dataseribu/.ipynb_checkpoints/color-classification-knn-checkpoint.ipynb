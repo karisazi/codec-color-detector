{
 "cells": [
  {
   "cell_type": "markdown",
   "id": "405d8d21",
   "metadata": {
    "papermill": {
     "duration": 0.006751,
     "end_time": "2022-10-29T13:06:19.820316",
     "exception": false,
     "start_time": "2022-10-29T13:06:19.813565",
     "status": "completed"
    },
    "tags": []
   },
   "source": [
    "# Color Classification"
   ]
  },
  {
   "cell_type": "code",
   "execution_count": 1,
   "id": "48af2aab-e809-42ef-a5f4-04801084ae60",
   "metadata": {},
   "outputs": [
    {
     "name": "stdout",
     "output_type": "stream",
     "text": [
      "Requirement already satisfied: opencv-python in d:\\ta_ml_undip\\nambah_data\\dataseribu\\venv\\lib\\site-packages (4.7.0.72)\n",
      "Requirement already satisfied: numpy>=1.17.0 in d:\\ta_ml_undip\\nambah_data\\dataseribu\\venv\\lib\\site-packages (from opencv-python) (1.24.2)\n"
     ]
    }
   ],
   "source": [
    "!pip install opencv-python"
   ]
  },
  {
   "cell_type": "code",
   "execution_count": 2,
   "id": "a628671d",
   "metadata": {
    "papermill": {
     "duration": 1.572447,
     "end_time": "2022-10-29T13:06:21.398333",
     "exception": false,
     "start_time": "2022-10-29T13:06:19.825886",
     "status": "completed"
    },
    "tags": []
   },
   "outputs": [],
   "source": [
    "import os\n",
    "import pandas as pd\n",
    "import numpy as np\n",
    "import cv2\n",
    "from mpl_toolkits import mplot3d\n",
    "from matplotlib import pyplot as plt\n",
    "from sklearn.model_selection import train_test_split\n",
    "from sklearn.neighbors import KNeighborsClassifier\n",
    "from sklearn.metrics import accuracy_score"
   ]
  },
  {
   "cell_type": "code",
   "execution_count": 3,
   "id": "98a02657",
   "metadata": {
    "papermill": {
     "duration": 0.336548,
     "end_time": "2022-10-29T13:06:21.740650",
     "exception": false,
     "start_time": "2022-10-29T13:06:21.404102",
     "status": "completed"
    },
    "tags": []
   },
   "outputs": [
    {
     "name": "stdout",
     "output_type": "stream",
     "text": [
      "[[[255 102  51]\n",
      "  [255 102  51]\n",
      "  [255 102  51]\n",
      "  ...\n",
      "  [255 102  51]\n",
      "  [255 102  51]\n",
      "  [255 102  51]]\n",
      "\n",
      " [[255 102  51]\n",
      "  [255 102  51]\n",
      "  [255 102  51]\n",
      "  ...\n",
      "  [255 102  51]\n",
      "  [255 102  51]\n",
      "  [255 102  51]]\n",
      "\n",
      " [[255 102  51]\n",
      "  [255 102  51]\n",
      "  [255 102  51]\n",
      "  ...\n",
      "  [255 102  51]\n",
      "  [255 102  51]\n",
      "  [255 102  51]]\n",
      "\n",
      " ...\n",
      "\n",
      " [[255 102  51]\n",
      "  [255 102  51]\n",
      "  [255 102  51]\n",
      "  ...\n",
      "  [255 102  51]\n",
      "  [255 102  51]\n",
      "  [255 102  51]]\n",
      "\n",
      " [[255 102  51]\n",
      "  [255 102  51]\n",
      "  [255 102  51]\n",
      "  ...\n",
      "  [255 102  51]\n",
      "  [255 102  51]\n",
      "  [255 102  51]]\n",
      "\n",
      " [[255 102  51]\n",
      "  [255 102  51]\n",
      "  [255 102  51]\n",
      "  ...\n",
      "  [255 102  51]\n",
      "  [255 102  51]\n",
      "  [255 102  51]]]\n"
     ]
    },
    {
     "data": {
      "text/plain": [
       "<matplotlib.image.AxesImage at 0x2b0e130e940>"
      ]
     },
     "execution_count": 3,
     "metadata": {},
     "output_type": "execute_result"
    },
    {
     "data": {
      "image/png": "[encoded data removed]",
      "text/plain": [
       "<Figure size 640x480 with 1 Axes>"
      ]
     },
     "metadata": {},
     "output_type": "display_data"
    }
   ],
   "source": [
    "citra = cv2.cvtColor(cv2.imread('./data_coba/orange.png'), cv2.COLOR_BGR2RGB)\n",
    "print(citra)\n",
    "plt.imshow(citra)"
   ]
  },
  {
   "cell_type": "code",
   "execution_count": 4,
   "id": "52630eb6",
   "metadata": {
    "papermill": {
     "duration": 2.234025,
     "end_time": "2022-10-29T13:06:23.983093",
     "exception": false,
     "start_time": "2022-10-29T13:06:21.749068",
     "status": "completed"
    },
    "tags": []
   },
   "outputs": [],
   "source": [
    "rgb = []\n",
    "color = []\n",
    "\n",
    "for dirname, _, filenames in os.walk('./training_dataset'):\n",
    "    for filename in filenames:\n",
    "        image = cv2.cvtColor(cv2.imread(os.path.join(dirname, filename)), cv2.COLOR_BGR2RGB)\n",
    "        rgb.append(image[0][0])\n",
    "        color.append(dirname[19:])\n",
    "       "
   ]
  },
  {
   "cell_type": "code",
   "execution_count": 5,
   "id": "4c91a984",
   "metadata": {
    "papermill": {
     "duration": 0.033279,
     "end_time": "2022-10-29T13:06:24.022777",
     "exception": false,
     "start_time": "2022-10-29T13:06:23.989498",
     "status": "completed"
    },
    "tags": []
   },
   "outputs": [
    {
     "data": {
      "text/html": [
       "<div>\n",
       "<style scoped>\n",
       "    .dataframe tbody tr th:only-of-type {\n",
       "        vertical-align: middle;\n",
       "    }\n",
       "\n",
       "    .dataframe tbody tr th {\n",
       "        vertical-align: top;\n",
       "    }\n",
       "\n",
       "    .dataframe thead th {\n",
       "        text-align: right;\n",
       "    }\n",
       "</style>\n",
       "<table border=\"1\" class=\"dataframe\">\n",
       "  <thead>\n",
       "    <tr style=\"text-align: right;\">\n",
       "      <th></th>\n",
       "      <th>red</th>\n",
       "      <th>green</th>\n",
       "      <th>blue</th>\n",
       "    </tr>\n",
       "  </thead>\n",
       "  <tbody>\n",
       "    <tr>\n",
       "      <th>0</th>\n",
       "      <td>10</td>\n",
       "      <td>5</td>\n",
       "      <td>2</td>\n",
       "    </tr>\n",
       "    <tr>\n",
       "      <th>1</th>\n",
       "      <td>17</td>\n",
       "      <td>0</td>\n",
       "      <td>17</td>\n",
       "    </tr>\n",
       "    <tr>\n",
       "      <th>2</th>\n",
       "      <td>29</td>\n",
       "      <td>24</td>\n",
       "      <td>23</td>\n",
       "    </tr>\n",
       "    <tr>\n",
       "      <th>3</th>\n",
       "      <td>0</td>\n",
       "      <td>0</td>\n",
       "      <td>1</td>\n",
       "    </tr>\n",
       "    <tr>\n",
       "      <th>4</th>\n",
       "      <td>13</td>\n",
       "      <td>13</td>\n",
       "      <td>11</td>\n",
       "    </tr>\n",
       "  </tbody>\n",
       "</table>\n",
       "</div>"
      ],
      "text/plain": [
       "   red  green  blue\n",
       "0   10      5     2\n",
       "1   17      0    17\n",
       "2   29     24    23\n",
       "3    0      0     1\n",
       "4   13     13    11"
      ]
     },
     "execution_count": 5,
     "metadata": {},
     "output_type": "execute_result"
    }
   ],
   "source": [
    "rgb_df = pd.DataFrame(np.array(rgb), columns=['red', 'green', 'blue'])\n",
    "rgb_df.head()"
   ]
  },
  {
   "cell_type": "code",
   "execution_count": 6,
   "id": "1512412e",
   "metadata": {
    "papermill": {
     "duration": 0.02146,
     "end_time": "2022-10-29T13:06:24.050558",
     "exception": false,
     "start_time": "2022-10-29T13:06:24.029098",
     "status": "completed"
    },
    "tags": []
   },
   "outputs": [
    {
     "data": {
      "text/html": [
       "<div>\n",
       "<style scoped>\n",
       "    .dataframe tbody tr th:only-of-type {\n",
       "        vertical-align: middle;\n",
       "    }\n",
       "\n",
       "    .dataframe tbody tr th {\n",
       "        vertical-align: top;\n",
       "    }\n",
       "\n",
       "    .dataframe thead th {\n",
       "        text-align: right;\n",
       "    }\n",
       "</style>\n",
       "<table border=\"1\" class=\"dataframe\">\n",
       "  <thead>\n",
       "    <tr style=\"text-align: right;\">\n",
       "      <th></th>\n",
       "      <th>color</th>\n",
       "    </tr>\n",
       "  </thead>\n",
       "  <tbody>\n",
       "    <tr>\n",
       "      <th>0</th>\n",
       "      <td>black</td>\n",
       "    </tr>\n",
       "    <tr>\n",
       "      <th>1</th>\n",
       "      <td>black</td>\n",
       "    </tr>\n",
       "    <tr>\n",
       "      <th>2</th>\n",
       "      <td>black</td>\n",
       "    </tr>\n",
       "    <tr>\n",
       "      <th>3</th>\n",
       "      <td>black</td>\n",
       "    </tr>\n",
       "    <tr>\n",
       "      <th>4</th>\n",
       "      <td>black</td>\n",
       "    </tr>\n",
       "  </tbody>\n",
       "</table>\n",
       "</div>"
      ],
      "text/plain": [
       "   color\n",
       "0  black\n",
       "1  black\n",
       "2  black\n",
       "3  black\n",
       "4  black"
      ]
     },
     "execution_count": 6,
     "metadata": {},
     "output_type": "execute_result"
    }
   ],
   "source": [
    "color_df = pd.DataFrame(\n",
    "    {\n",
    "        'color': color\n",
    "    }\n",
    ")\n",
    "\n",
    "color_df.head()"
   ]
  },
  {
   "cell_type": "code",
   "execution_count": 7,
   "id": "06e12fbc",
   "metadata": {
    "papermill": {
     "duration": 0.031657,
     "end_time": "2022-10-29T13:06:24.088685",
     "exception": false,
     "start_time": "2022-10-29T13:06:24.057028",
     "status": "completed"
    },
    "tags": []
   },
   "outputs": [
    {
     "data": {
      "text/html": [
       "<div>\n",
       "<style scoped>\n",
       "    .dataframe tbody tr th:only-of-type {\n",
       "        vertical-align: middle;\n",
       "    }\n",
       "\n",
       "    .dataframe tbody tr th {\n",
       "        vertical-align: top;\n",
       "    }\n",
       "\n",
       "    .dataframe thead th {\n",
       "        text-align: right;\n",
       "    }\n",
       "</style>\n",
       "<table border=\"1\" class=\"dataframe\">\n",
       "  <thead>\n",
       "    <tr style=\"text-align: right;\">\n",
       "      <th></th>\n",
       "      <th>red</th>\n",
       "      <th>green</th>\n",
       "      <th>blue</th>\n",
       "      <th>color</th>\n",
       "    </tr>\n",
       "  </thead>\n",
       "  <tbody>\n",
       "    <tr>\n",
       "      <th>0</th>\n",
       "      <td>10</td>\n",
       "      <td>5</td>\n",
       "      <td>2</td>\n",
       "      <td>black</td>\n",
       "    </tr>\n",
       "    <tr>\n",
       "      <th>1</th>\n",
       "      <td>17</td>\n",
       "      <td>0</td>\n",
       "      <td>17</td>\n",
       "      <td>black</td>\n",
       "    </tr>\n",
       "    <tr>\n",
       "      <th>2</th>\n",
       "      <td>29</td>\n",
       "      <td>24</td>\n",
       "      <td>23</td>\n",
       "      <td>black</td>\n",
       "    </tr>\n",
       "    <tr>\n",
       "      <th>3</th>\n",
       "      <td>0</td>\n",
       "      <td>0</td>\n",
       "      <td>1</td>\n",
       "      <td>black</td>\n",
       "    </tr>\n",
       "    <tr>\n",
       "      <th>4</th>\n",
       "      <td>13</td>\n",
       "      <td>13</td>\n",
       "      <td>11</td>\n",
       "      <td>black</td>\n",
       "    </tr>\n",
       "  </tbody>\n",
       "</table>\n",
       "</div>"
      ],
      "text/plain": [
       "   red  green  blue  color\n",
       "0   10      5     2  black\n",
       "1   17      0    17  black\n",
       "2   29     24    23  black\n",
       "3    0      0     1  black\n",
       "4   13     13    11  black"
      ]
     },
     "execution_count": 7,
     "metadata": {},
     "output_type": "execute_result"
    }
   ],
   "source": [
    "df = rgb_df.join(color_df)\n",
    "df.head()"
   ]
  },
  {
   "cell_type": "code",
   "execution_count": 8,
   "id": "55609359",
   "metadata": {
    "papermill": {
     "duration": 0.035543,
     "end_time": "2022-10-29T13:06:24.130787",
     "exception": false,
     "start_time": "2022-10-29T13:06:24.095244",
     "status": "completed"
    },
    "tags": []
   },
   "outputs": [
    {
     "name": "stdout",
     "output_type": "stream",
     "text": [
      "<class 'pandas.core.frame.DataFrame'>\n",
      "RangeIndex: 473 entries, 0 to 472\n",
      "Data columns (total 4 columns):\n",
      " #   Column  Non-Null Count  Dtype \n",
      "---  ------  --------------  ----- \n",
      " 0   red     473 non-null    uint8 \n",
      " 1   green   473 non-null    uint8 \n",
      " 2   blue    473 non-null    uint8 \n",
      " 3   color   473 non-null    object\n",
      "dtypes: object(1), uint8(3)\n",
      "memory usage: 5.2+ KB\n"
     ]
    }
   ],
   "source": [
    "df.info()"
   ]
  },
  {
   "cell_type": "code",
   "execution_count": 9,
   "id": "049b9eed",
   "metadata": {
    "papermill": {
     "duration": 0.018963,
     "end_time": "2022-10-29T13:06:24.158237",
     "exception": false,
     "start_time": "2022-10-29T13:06:24.139274",
     "status": "completed"
    },
    "tags": []
   },
   "outputs": [
    {
     "data": {
      "text/plain": [
       "10"
      ]
     },
     "execution_count": 9,
     "metadata": {},
     "output_type": "execute_result"
    }
   ],
   "source": [
    "df['color'].nunique()"
   ]
  },
  {
   "cell_type": "code",
   "execution_count": 10,
   "id": "ec03e7ae",
   "metadata": {
    "papermill": {
     "duration": 0.016757,
     "end_time": "2022-10-29T13:06:24.181537",
     "exception": false,
     "start_time": "2022-10-29T13:06:24.164780",
     "status": "completed"
    },
    "tags": []
   },
   "outputs": [],
   "source": [
    "red = df['red']\n",
    "green = df['green']\n",
    "blue = df['blue']"
   ]
  },
  {
   "cell_type": "code",
   "execution_count": 11,
   "id": "1674fce9",
   "metadata": {
    "papermill": {
     "duration": 0.265129,
     "end_time": "2022-10-29T13:06:24.453438",
     "exception": false,
     "start_time": "2022-10-29T13:06:24.188309",
     "status": "completed"
    },
    "tags": []
   },
   "outputs": [
    {
     "data": {
      "image/png": "[encoded data removed]",
      "text/plain": [
       "<Figure size 640x480 with 1 Axes>"
      ]
     },
     "metadata": {},
     "output_type": "display_data"
    }
   ],
   "source": [
    "fig = plt.figure()\n",
    "ax = plt.axes(projection='3d')\n",
    "\n",
    "ax.scatter(red, green, blue, c=df['color'])\n",
    "ax.set(title='scatter RGB 3d',\n",
    "      xlabel='red',\n",
    "      ylabel='green',\n",
    "      zlabel='blue')\n",
    "plt.show()"
   ]
  },
  {
   "cell_type": "code",
   "execution_count": 12,
   "id": "d6795d6e",
   "metadata": {
    "papermill": {
     "duration": 0.018587,
     "end_time": "2022-10-29T13:06:24.479690",
     "exception": false,
     "start_time": "2022-10-29T13:06:24.461103",
     "status": "completed"
    },
    "tags": []
   },
   "outputs": [],
   "source": [
    "X = df.iloc[:, 0:3]\n",
    "y= df.iloc[:, -1]"
   ]
  },
  {
   "cell_type": "code",
   "execution_count": 13,
   "id": "7f8c06eb",
   "metadata": {
    "papermill": {
     "duration": 0.019687,
     "end_time": "2022-10-29T13:06:24.506908",
     "exception": false,
     "start_time": "2022-10-29T13:06:24.487221",
     "status": "completed"
    },
    "tags": []
   },
   "outputs": [],
   "source": [
    "X_train, X_test, y_train, y_test = train_test_split(X, y, test_size=0.3, random_state=0)"
   ]
  },
  {
   "cell_type": "code",
   "execution_count": 14,
   "id": "e998ae06-a058-4bd2-bc50-c3ca4e4dc00a",
   "metadata": {},
   "outputs": [
    {
     "data": {
      "text/plain": [
       "331"
      ]
     },
     "execution_count": 14,
     "metadata": {},
     "output_type": "execute_result"
    }
   ],
   "source": [
    "y_train.count()"
   ]
  },
  {
   "cell_type": "code",
   "execution_count": 15,
   "id": "b5c25724-f511-41e5-852b-486030ef6f43",
   "metadata": {},
   "outputs": [
    {
     "data": {
      "text/plain": [
       "142"
      ]
     },
     "execution_count": 15,
     "metadata": {},
     "output_type": "execute_result"
    }
   ],
   "source": [
    "y_test.count()"
   ]
  },
  {
   "cell_type": "code",
   "execution_count": 16,
   "id": "e2885338-65f4-437e-b5a6-12e1954cd7bc",
   "metadata": {},
   "outputs": [
    {
     "data": {
      "text/plain": [
       "color\n",
       "grey      38\n",
       "red       37\n",
       "brown     37\n",
       "violet    36\n",
       "green     35\n",
       "yellow    34\n",
       "white     34\n",
       "orange    33\n",
       "black     33\n",
       "blue      14\n",
       "Name: count, dtype: int64"
      ]
     },
     "execution_count": 16,
     "metadata": {},
     "output_type": "execute_result"
    }
   ],
   "source": [
    "y_train.value_counts()"
   ]
  },
  {
   "cell_type": "code",
   "execution_count": 17,
   "id": "781fb641-ef22-42a6-9e27-38dbfd76df9c",
   "metadata": {},
   "outputs": [
    {
     "data": {
      "text/plain": [
       "color\n",
       "black     17\n",
       "orange    17\n",
       "yellow    16\n",
       "green     15\n",
       "violet    14\n",
       "white     14\n",
       "brown     13\n",
       "red       13\n",
       "grey      12\n",
       "blue      11\n",
       "Name: count, dtype: int64"
      ]
     },
     "execution_count": 17,
     "metadata": {},
     "output_type": "execute_result"
    }
   ],
   "source": [
    "y_test.value_counts()"
   ]
  },
  {
   "cell_type": "code",
   "execution_count": 18,
   "id": "8020c6d7",
   "metadata": {
    "papermill": {
     "duration": 0.152868,
     "end_time": "2022-10-29T13:06:24.667387",
     "exception": false,
     "start_time": "2022-10-29T13:06:24.514519",
     "status": "completed"
    },
    "tags": []
   },
   "outputs": [],
   "source": [
    "k = 30\n",
    "neighbors = []\n",
    "accuracy = []\n",
    "\n",
    "for i in range(k):\n",
    "    knn = KNeighborsClassifier(n_neighbors=i+1, weights='distance', metric='euclidean')\n",
    "    knn = knn.fit(X_train, y_train)\n",
    "    y_pred = knn.predict(X_test)\n",
    "    neighbors.append(i+1)\n",
    "    accuracy.append(accuracy_score(y_test, y_pred))"
   ]
  },
  {
   "cell_type": "code",
   "execution_count": 19,
   "id": "efca16ab",
   "metadata": {
    "papermill": {
     "duration": 0.221628,
     "end_time": "2022-10-29T13:06:24.897267",
     "exception": false,
     "start_time": "2022-10-29T13:06:24.675639",
     "status": "completed"
    },
    "tags": []
   },
   "outputs": [
    {
     "data": {
      "image/png": "[encoded data removed]",
      "text/plain": [
       "<Figure size 640x480 with 1 Axes>"
      ]
     },
     "metadata": {},
     "output_type": "display_data"
    }
   ],
   "source": [
    "plt.plot(neighbors, accuracy)\n",
    "plt.xlabel('neighbors')\n",
    "plt.ylabel('accuracy')\n",
    "plt.show()"
   ]
  },
  {
   "cell_type": "code",
   "execution_count": 20,
   "id": "b1cdc115",
   "metadata": {
    "papermill": {
     "duration": 0.028326,
     "end_time": "2022-10-29T13:06:24.934066",
     "exception": false,
     "start_time": "2022-10-29T13:06:24.905740",
     "status": "completed"
    },
    "tags": []
   },
   "outputs": [
    {
     "data": {
      "text/html": [
       "<div>\n",
       "<style scoped>\n",
       "    .dataframe tbody tr th:only-of-type {\n",
       "        vertical-align: middle;\n",
       "    }\n",
       "\n",
       "    .dataframe tbody tr th {\n",
       "        vertical-align: top;\n",
       "    }\n",
       "\n",
       "    .dataframe thead th {\n",
       "        text-align: right;\n",
       "    }\n",
       "</style>\n",
       "<table border=\"1\" class=\"dataframe\">\n",
       "  <thead>\n",
       "    <tr style=\"text-align: right;\">\n",
       "      <th></th>\n",
       "      <th>neighbors</th>\n",
       "      <th>accuracy</th>\n",
       "    </tr>\n",
       "  </thead>\n",
       "  <tbody>\n",
       "    <tr>\n",
       "      <th>0</th>\n",
       "      <td>1</td>\n",
       "      <td>0.964789</td>\n",
       "    </tr>\n",
       "    <tr>\n",
       "      <th>1</th>\n",
       "      <td>2</td>\n",
       "      <td>0.964789</td>\n",
       "    </tr>\n",
       "    <tr>\n",
       "      <th>2</th>\n",
       "      <td>3</td>\n",
       "      <td>0.957746</td>\n",
       "    </tr>\n",
       "    <tr>\n",
       "      <th>3</th>\n",
       "      <td>4</td>\n",
       "      <td>0.957746</td>\n",
       "    </tr>\n",
       "    <tr>\n",
       "      <th>4</th>\n",
       "      <td>5</td>\n",
       "      <td>0.943662</td>\n",
       "    </tr>\n",
       "  </tbody>\n",
       "</table>\n",
       "</div>"
      ],
      "text/plain": [
       "   neighbors  accuracy\n",
       "0          1  0.964789\n",
       "1          2  0.964789\n",
       "2          3  0.957746\n",
       "3          4  0.957746\n",
       "4          5  0.943662"
      ]
     },
     "execution_count": 20,
     "metadata": {},
     "output_type": "execute_result"
    }
   ],
   "source": [
    "accuracy_df = pd.DataFrame(\n",
    "    {\n",
    "        'neighbors': neighbors,\n",
    "        'accuracy': accuracy\n",
    "    }\n",
    ")\n",
    "\n",
    "accuracy_df.head(5)"
   ]
  },
  {
   "cell_type": "code",
   "execution_count": 21,
   "id": "017d7548",
   "metadata": {
    "papermill": {
     "duration": 0.019595,
     "end_time": "2022-10-29T13:06:24.961440",
     "exception": false,
     "start_time": "2022-10-29T13:06:24.941845",
     "status": "completed"
    },
    "tags": []
   },
   "outputs": [],
   "source": [
    "knn = KNeighborsClassifier(n_neighbors=3, weights='distance', metric='euclidean')\n",
    "knn = knn.fit(X_train, y_train)"
   ]
  },
  {
   "cell_type": "code",
   "execution_count": 22,
   "id": "81a4e542",
   "metadata": {
    "papermill": {
     "duration": 0.019636,
     "end_time": "2022-10-29T13:06:24.989952",
     "exception": false,
     "start_time": "2022-10-29T13:06:24.970316",
     "status": "completed"
    },
    "tags": []
   },
   "outputs": [],
   "source": [
    "y_pred = knn.predict(X_test)"
   ]
  },
  {
   "cell_type": "code",
   "execution_count": 23,
   "id": "a84b9b85",
   "metadata": {
    "papermill": {
     "duration": 0.026703,
     "end_time": "2022-10-29T13:06:25.024342",
     "exception": false,
     "start_time": "2022-10-29T13:06:24.997639",
     "status": "completed"
    },
    "tags": []
   },
   "outputs": [
    {
     "data": {
      "text/html": [
       "<div>\n",
       "<style scoped>\n",
       "    .dataframe tbody tr th:only-of-type {\n",
       "        vertical-align: middle;\n",
       "    }\n",
       "\n",
       "    .dataframe tbody tr th {\n",
       "        vertical-align: top;\n",
       "    }\n",
       "\n",
       "    .dataframe thead th {\n",
       "        text-align: right;\n",
       "    }\n",
       "</style>\n",
       "<table border=\"1\" class=\"dataframe\">\n",
       "  <thead>\n",
       "    <tr style=\"text-align: right;\">\n",
       "      <th></th>\n",
       "      <th>y_actual</th>\n",
       "      <th>y_predict</th>\n",
       "    </tr>\n",
       "  </thead>\n",
       "  <tbody>\n",
       "    <tr>\n",
       "      <th>102</th>\n",
       "      <td>brown</td>\n",
       "      <td>brown</td>\n",
       "    </tr>\n",
       "    <tr>\n",
       "      <th>76</th>\n",
       "      <td>brown</td>\n",
       "      <td>brown</td>\n",
       "    </tr>\n",
       "    <tr>\n",
       "      <th>21</th>\n",
       "      <td>black</td>\n",
       "      <td>black</td>\n",
       "    </tr>\n",
       "    <tr>\n",
       "      <th>336</th>\n",
       "      <td>violet</td>\n",
       "      <td>violet</td>\n",
       "    </tr>\n",
       "    <tr>\n",
       "      <th>186</th>\n",
       "      <td>grey</td>\n",
       "      <td>grey</td>\n",
       "    </tr>\n",
       "    <tr>\n",
       "      <th>...</th>\n",
       "      <td>...</td>\n",
       "      <td>...</td>\n",
       "    </tr>\n",
       "    <tr>\n",
       "      <th>64</th>\n",
       "      <td>blue</td>\n",
       "      <td>blue</td>\n",
       "    </tr>\n",
       "    <tr>\n",
       "      <th>418</th>\n",
       "      <td>white</td>\n",
       "      <td>white</td>\n",
       "    </tr>\n",
       "    <tr>\n",
       "      <th>200</th>\n",
       "      <td>grey</td>\n",
       "      <td>grey</td>\n",
       "    </tr>\n",
       "    <tr>\n",
       "      <th>81</th>\n",
       "      <td>brown</td>\n",
       "      <td>brown</td>\n",
       "    </tr>\n",
       "    <tr>\n",
       "      <th>339</th>\n",
       "      <td>violet</td>\n",
       "      <td>violet</td>\n",
       "    </tr>\n",
       "  </tbody>\n",
       "</table>\n",
       "<p>142 rows × 2 columns</p>\n",
       "</div>"
      ],
      "text/plain": [
       "    y_actual y_predict\n",
       "102    brown     brown\n",
       "76     brown     brown\n",
       "21     black     black\n",
       "336   violet    violet\n",
       "186     grey      grey\n",
       "..       ...       ...\n",
       "64      blue      blue\n",
       "418    white     white\n",
       "200     grey      grey\n",
       "81     brown     brown\n",
       "339   violet    violet\n",
       "\n",
       "[142 rows x 2 columns]"
      ]
     },
     "execution_count": 23,
     "metadata": {},
     "output_type": "execute_result"
    }
   ],
   "source": [
    "pd.DataFrame(\n",
    "    {\n",
    "        'y_actual': y_test,\n",
    "        'y_predict': y_pred\n",
    "    }\n",
    ")"
   ]
  },
  {
   "cell_type": "code",
   "execution_count": 24,
   "id": "66dd7dd4",
   "metadata": {
    "papermill": {
     "duration": 0.020718,
     "end_time": "2022-10-29T13:06:25.053825",
     "exception": false,
     "start_time": "2022-10-29T13:06:25.033107",
     "status": "completed"
    },
    "tags": []
   },
   "outputs": [
    {
     "data": {
      "text/plain": [
       "0.9577464788732394"
      ]
     },
     "execution_count": 24,
     "metadata": {},
     "output_type": "execute_result"
    }
   ],
   "source": [
    "accuracy_score(y_test, y_pred)"
   ]
  },
  {
   "cell_type": "code",
   "execution_count": 25,
   "id": "38434870",
   "metadata": {},
   "outputs": [
    {
     "name": "stdout",
     "output_type": "stream",
     "text": [
      "     red  green  blue\n",
      "102  159     92    24\n",
      "76    89     60    57\n",
      "21     0      0     4\n",
      "336  164     66   160\n",
      "186  149    145   140\n"
     ]
    }
   ],
   "source": [
    "print(X_test.head())"
   ]
  },
  {
   "cell_type": "code",
   "execution_count": 26,
   "id": "e36919b6",
   "metadata": {
    "papermill": {
     "duration": 0.007801,
     "end_time": "2022-10-29T13:06:25.070095",
     "exception": false,
     "start_time": "2022-10-29T13:06:25.062294",
     "status": "completed"
    },
    "tags": []
   },
   "outputs": [
    {
     "data": {
      "text/plain": [
       "<matplotlib.image.AxesImage at 0x2b0fa957070>"
      ]
     },
     "execution_count": 26,
     "metadata": {},
     "output_type": "execute_result"
    },
    {
     "data": {
      "image/png": "[encoded data removed]",
      "text/plain": [
       "<Figure size 640x480 with 1 Axes>"
      ]
     },
     "metadata": {},
     "output_type": "display_data"
    }
   ],
   "source": [
    "citra = cv2.cvtColor(cv2.imread('./data_coba/orange.png'), cv2.COLOR_BGR2RGB)\n",
    "plt.imshow(citra)"
   ]
  },
  {
   "cell_type": "code",
   "execution_count": 27,
   "id": "cab61a2e",
   "metadata": {
    "papermill": {
     "duration": 2.234025,
     "end_time": "2022-10-29T13:06:23.983093",
     "exception": false,
     "start_time": "2022-10-29T13:06:21.749068",
     "status": "completed"
    },
    "tags": []
   },
   "outputs": [
    {
     "name": "stdout",
     "output_type": "stream",
     "text": [
      "[array([255, 102,  51], dtype=uint8)]\n"
     ]
    }
   ],
   "source": [
    "rgb2 = []\n",
    "image = cv2.cvtColor(cv2.imread('./data_coba/orange.png'), cv2.COLOR_BGR2RGB)\n",
    "\n",
    "# for dirname, _, filename in os.walk('F:/CapstoneTA/coba_color/coba1/data_coba'):\n",
    "#     print(filename[0])\n",
    "#     image = cv2.cvtColor(cv2.imread(os.path.join(dirname[0], filename[0])), cv2.COLOR_BGR2RGB)\n",
    "#     print(os.path.join(dirname[0], filename[0]))\n",
    "rgb2.append(image[0][0])\n",
    "\n",
    "print(rgb2)"
   ]
  },
  {
   "cell_type": "code",
   "execution_count": 28,
   "id": "fdd03572",
   "metadata": {
    "papermill": {
     "duration": 0.033279,
     "end_time": "2022-10-29T13:06:24.022777",
     "exception": false,
     "start_time": "2022-10-29T13:06:23.989498",
     "status": "completed"
    },
    "tags": []
   },
   "outputs": [
    {
     "data": {
      "text/html": [
       "<div>\n",
       "<style scoped>\n",
       "    .dataframe tbody tr th:only-of-type {\n",
       "        vertical-align: middle;\n",
       "    }\n",
       "\n",
       "    .dataframe tbody tr th {\n",
       "        vertical-align: top;\n",
       "    }\n",
       "\n",
       "    .dataframe thead th {\n",
       "        text-align: right;\n",
       "    }\n",
       "</style>\n",
       "<table border=\"1\" class=\"dataframe\">\n",
       "  <thead>\n",
       "    <tr style=\"text-align: right;\">\n",
       "      <th></th>\n",
       "      <th>red</th>\n",
       "      <th>green</th>\n",
       "      <th>blue</th>\n",
       "    </tr>\n",
       "  </thead>\n",
       "  <tbody>\n",
       "    <tr>\n",
       "      <th>0</th>\n",
       "      <td>255</td>\n",
       "      <td>102</td>\n",
       "      <td>51</td>\n",
       "    </tr>\n",
       "  </tbody>\n",
       "</table>\n",
       "</div>"
      ],
      "text/plain": [
       "   red  green  blue\n",
       "0  255    102    51"
      ]
     },
     "execution_count": 28,
     "metadata": {},
     "output_type": "execute_result"
    }
   ],
   "source": [
    "rgb_df2 = pd.DataFrame(np.array(rgb2), columns=['red', 'green', 'blue'])\n",
    "rgb_df2.head()"
   ]
  },
  {
   "cell_type": "code",
   "execution_count": 29,
   "id": "c5842d48",
   "metadata": {},
   "outputs": [],
   "source": [
    "y_pred2 = knn.predict(rgb_df2)"
   ]
  },
  {
   "cell_type": "code",
   "execution_count": 30,
   "id": "6ac2ef53",
   "metadata": {},
   "outputs": [
    {
     "name": "stdout",
     "output_type": "stream",
     "text": [
      "['orange']\n"
     ]
    }
   ],
   "source": [
    "print(y_pred2)"
   ]
  },
  {
   "cell_type": "code",
   "execution_count": 31,
   "id": "2fa64d15",
   "metadata": {},
   "outputs": [],
   "source": [
    "import pickle\n",
    "\n",
    "filename = 'model.pkl'\n",
    "pickle.dump(knn, open(filename, 'wb'))"
   ]
  },
  {
   "cell_type": "code",
   "execution_count": 32,
   "id": "d3eaab5d-69b9-42e7-a242-572379bc7ba7",
   "metadata": {},
   "outputs": [
    {
     "name": "stdout",
     "output_type": "stream",
     "text": [
      "['orange']\n"
     ]
    }
   ],
   "source": [
    "loaded_model = pickle.load(open(filename, 'rb'))\n",
    "result = loaded_model.predict(rgb_df2)\n",
    "print(result)"
   ]
  },
  {
   "cell_type": "code",
   "execution_count": null,
   "id": "b0ccdb75-e10a-4788-84f8-50a9bc643090",
   "metadata": {},
   "outputs": [],
   "source": []
  }
 ],
 "metadata": {
  "kernelspec": {
   "display_name": "Python 3 (ipykernel)",
   "language": "python",
   "name": "python3"
  },
  "language_info": {
   "codemirror_mode": {
    "name": "ipython",
    "version": 3
   },
   "file_extension": ".py",
   "mimetype": "text/x-python",
   "name": "python",
   "nbconvert_exporter": "python",
   "pygments_lexer": "ipython3",
   "version": "3.8.0"
  },
  "papermill": {
   "default_parameters": {},
   "duration": 15.480259,
   "end_time": "2022-10-29T13:06:26.203457",
   "environment_variables": {},
   "exception": null,
   "input_path": "__notebook__.ipynb",
   "output_path": "__notebook__.ipynb",
   "parameters": {},
   "start_time": "2022-10-29T13:06:10.723198",
   "version": "2.3.4"
  }
 },
 "nbformat": 4,
 "nbformat_minor": 5
}
